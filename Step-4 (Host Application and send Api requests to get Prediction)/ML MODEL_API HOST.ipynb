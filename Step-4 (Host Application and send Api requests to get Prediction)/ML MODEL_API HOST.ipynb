{
 "cells": [
  {
   "cell_type": "markdown",
   "id": "f1420931",
   "metadata": {},
   "source": [
    "# Application to host the model using API and send GET requests"
   ]
  },
  {
   "cell_type": "code",
   "execution_count": null,
   "id": "8092a206",
   "metadata": {},
   "outputs": [],
   "source": [
    "# to host the application the code was run on Pycharm and to show the output, jupyter notebook is used\n",
    "# application was host on localhost and port 5000\n",
    "\n",
    "from flask import Flask\n",
    "from flask_restful import Resource, Api\n",
    "import pickle\n",
    "import pandas as pd\n",
    "from flask_cors import CORS\n",
    "\n",
    "app = Flask(__name__)\n",
    "\n",
    "CORS(app)\n",
    "#creating an api object\n",
    "api = Api(app)\n",
    "\n",
    "#predict api call\n",
    "class predict(Resource):\n",
    "    def get(self, vol_moving_avg, adj_close_rolling_med):\n",
    "        vol_moving_avg = float(vol_moving_avg)\n",
    "        adj_close_rolling_med = float(adj_close_rolling_med)\n",
    "        dict = {'vol_moving_avg':vol_moving_avg, 'adj_close_rolling_med':adj_close_rolling_med}\n",
    "        df = pd.DataFrame([dict])\n",
    "        model = pickle.load(open('randomforest_model_stock_volume_prediction.sav', 'rb'))\n",
    "        predict = model.predict(df)\n",
    "        predict= float(predict[0])\n",
    "        return (predict)\n",
    "\n",
    "api.add_resource(predict, '/predict/<float:vol_moving_avg>/<float:adj_close_rolling_med>')\n",
    "\n",
    "\n",
    "\n",
    "if __name__=='__main__':\n",
    "    app.run(debug =True)"
   ]
  },
  {
   "cell_type": "markdown",
   "id": "bab0de4c",
   "metadata": {},
   "source": [
    "## Sending a request to the api to predict Volume of the stocks, giving 'vol_moving_avg' and 'adj_close_rolling_med' as input \n"
   ]
  },
  {
   "cell_type": "code",
   "execution_count": 5,
   "id": "920a2ebe",
   "metadata": {},
   "outputs": [
    {
     "data": {
      "text/plain": [
       "137227.0"
      ]
     },
     "execution_count": 5,
     "metadata": {},
     "output_type": "execute_result"
    }
   ],
   "source": [
    "import requests\n",
    "\n",
    "# let us send input vol_moving_avg = 172706.666 and adj_close_rolling_med = 142550.0\n",
    "\n",
    "result = requests.get('http://127.0.0.1:5000/predict/172706.666/142550.0')\n",
    "result.json()"
   ]
  },
  {
   "cell_type": "markdown",
   "id": "4c156d8e",
   "metadata": {},
   "source": [
    "## Sample Prediction \n"
   ]
  },
  {
   "cell_type": "code",
   "execution_count": 6,
   "id": "553517e3",
   "metadata": {},
   "outputs": [
    {
     "data": {
      "text/plain": [
       "478476.39"
      ]
     },
     "execution_count": 6,
     "metadata": {},
     "output_type": "execute_result"
    }
   ],
   "source": [
    "result1 = requests.get('http://127.0.0.1:5000/predict/189653.987/12595.123')\n",
    "result1.json()"
   ]
  },
  {
   "cell_type": "code",
   "execution_count": null,
   "id": "f437fe16",
   "metadata": {},
   "outputs": [],
   "source": []
  }
 ],
 "metadata": {
  "kernelspec": {
   "display_name": "Python 3 (ipykernel)",
   "language": "python",
   "name": "python3"
  },
  "language_info": {
   "codemirror_mode": {
    "name": "ipython",
    "version": 3
   },
   "file_extension": ".py",
   "mimetype": "text/x-python",
   "name": "python",
   "nbconvert_exporter": "python",
   "pygments_lexer": "ipython3",
   "version": "3.9.16"
  }
 },
 "nbformat": 4,
 "nbformat_minor": 5
}
